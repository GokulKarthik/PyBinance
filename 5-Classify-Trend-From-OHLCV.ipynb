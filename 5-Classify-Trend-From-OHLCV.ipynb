{
 "cells": [
  {
   "cell_type": "code",
   "execution_count": 1,
   "metadata": {},
   "outputs": [],
   "source": [
    "import os\n",
    "import numpy as np\n",
    "import pandas as pd\n",
    "import matplotlib.pyplot as plt\n",
    "import re\n",
    "from tqdm.notebook import tqdm\n",
    "import time\n",
    "\n",
    "import torch\n",
    "import torch.nn as nn\n",
    "import torch.nn.functional as F\n",
    "import torch.optim as optim\n",
    "from torch.utils.data import Dataset, DataLoader"
   ]
  },
  {
   "cell_type": "code",
   "execution_count": 2,
   "metadata": {},
   "outputs": [],
   "source": [
    "device = \"cuda:0\" if torch.cuda.is_available() else \"cpu\"\n",
    "device = torch.device(device)"
   ]
  },
  {
   "cell_type": "markdown",
   "metadata": {},
   "source": [
    "## 1. Setup"
   ]
  },
  {
   "cell_type": "code",
   "execution_count": 3,
   "metadata": {},
   "outputs": [
    {
     "name": "stdout",
     "output_type": "stream",
     "text": [
      "194\n",
      "['ADA_BTC_1h.csv', 'ADA_ETH_1h.csv', 'ADX_BTC_1h.csv', 'ADX_ETH_1h.csv', 'AION_BNB_1h.csv']\n"
     ]
    }
   ],
   "source": [
    "data_dir = \"Data/OHLCV\"\n",
    "pattern = re.compile('[A-Z]+_[A-Z]+_[0-9a-z]+.csv')\n",
    "data_fns = [fn for fn in os.listdir(data_dir) if pattern.match(fn)]\n",
    "print(len(data_fns))\n",
    "print(data_fns[:5])"
   ]
  },
  {
   "cell_type": "code",
   "execution_count": 4,
   "metadata": {},
   "outputs": [
    {
     "data": {
      "text/html": [
       "<div>\n",
       "<style scoped>\n",
       "    .dataframe tbody tr th:only-of-type {\n",
       "        vertical-align: middle;\n",
       "    }\n",
       "\n",
       "    .dataframe tbody tr th {\n",
       "        vertical-align: top;\n",
       "    }\n",
       "\n",
       "    .dataframe thead th {\n",
       "        text-align: right;\n",
       "    }\n",
       "</style>\n",
       "<table border=\"1\" class=\"dataframe\">\n",
       "  <thead>\n",
       "    <tr style=\"text-align: right;\">\n",
       "      <th></th>\n",
       "      <th>Base-Coin</th>\n",
       "      <th>Quote-Coin</th>\n",
       "    </tr>\n",
       "  </thead>\n",
       "  <tbody>\n",
       "    <tr>\n",
       "      <th>0</th>\n",
       "      <td>ADA</td>\n",
       "      <td>BTC</td>\n",
       "    </tr>\n",
       "    <tr>\n",
       "      <th>1</th>\n",
       "      <td>ADA</td>\n",
       "      <td>ETH</td>\n",
       "    </tr>\n",
       "    <tr>\n",
       "      <th>2</th>\n",
       "      <td>ADX</td>\n",
       "      <td>BTC</td>\n",
       "    </tr>\n",
       "    <tr>\n",
       "      <th>3</th>\n",
       "      <td>ADX</td>\n",
       "      <td>ETH</td>\n",
       "    </tr>\n",
       "    <tr>\n",
       "      <th>4</th>\n",
       "      <td>AION</td>\n",
       "      <td>BNB</td>\n",
       "    </tr>\n",
       "  </tbody>\n",
       "</table>\n",
       "</div>"
      ],
      "text/plain": [
       "  Base-Coin Quote-Coin\n",
       "0       ADA        BTC\n",
       "1       ADA        ETH\n",
       "2       ADX        BTC\n",
       "3       ADX        ETH\n",
       "4      AION        BNB"
      ]
     },
     "execution_count": 4,
     "metadata": {},
     "output_type": "execute_result"
    }
   ],
   "source": [
    "symbols = []\n",
    "for fn in data_fns:\n",
    "    symbol = [fn.split(\"_\")[0], fn.split(\"_\")[1]]\n",
    "    symbols.append(symbol)\n",
    "symbols = pd.DataFrame(symbols, columns=['Base-Coin', 'Quote-Coin'])\n",
    "symbols.head()"
   ]
  },
  {
   "cell_type": "code",
   "execution_count": 5,
   "metadata": {},
   "outputs": [
    {
     "data": {
      "text/plain": [
       "BTC     84\n",
       "ETH     77\n",
       "BNB     27\n",
       "USDT     6\n",
       "Name: Quote-Coin, dtype: int64"
      ]
     },
     "execution_count": 5,
     "metadata": {},
     "output_type": "execute_result"
    }
   ],
   "source": [
    "symbols['Quote-Coin'].value_counts()"
   ]
  },
  {
   "cell_type": "code",
   "execution_count": 6,
   "metadata": {},
   "outputs": [],
   "source": [
    "data_fp = \"Data/OHLCV/BNB_BTC_1h.csv\""
   ]
  },
  {
   "cell_type": "code",
   "execution_count": 7,
   "metadata": {},
   "outputs": [
    {
     "name": "stdout",
     "output_type": "stream",
     "text": [
      "(20771, 12)\n"
     ]
    },
    {
     "data": {
      "text/html": [
       "<div>\n",
       "<style scoped>\n",
       "    .dataframe tbody tr th:only-of-type {\n",
       "        vertical-align: middle;\n",
       "    }\n",
       "\n",
       "    .dataframe tbody tr th {\n",
       "        vertical-align: top;\n",
       "    }\n",
       "\n",
       "    .dataframe thead th {\n",
       "        text-align: right;\n",
       "    }\n",
       "</style>\n",
       "<table border=\"1\" class=\"dataframe\">\n",
       "  <thead>\n",
       "    <tr style=\"text-align: right;\">\n",
       "      <th></th>\n",
       "      <th>Open-Time</th>\n",
       "      <th>Open</th>\n",
       "      <th>High</th>\n",
       "      <th>Low</th>\n",
       "      <th>Close</th>\n",
       "      <th>Volume</th>\n",
       "      <th>Close-Time</th>\n",
       "      <th>Quote-Asset-Value</th>\n",
       "      <th>Number-of-Trades</th>\n",
       "      <th>Taker-Buy-Base-Asset-Volume</th>\n",
       "      <th>Taker-Buy-Quote-Asset-Volume</th>\n",
       "      <th>Ignore</th>\n",
       "    </tr>\n",
       "  </thead>\n",
       "  <tbody>\n",
       "    <tr>\n",
       "      <th>0</th>\n",
       "      <td>2018-01-01 00:00:00</td>\n",
       "      <td>0.000623</td>\n",
       "      <td>0.000625</td>\n",
       "      <td>0.000614</td>\n",
       "      <td>0.000618</td>\n",
       "      <td>130791.0</td>\n",
       "      <td>2018-01-01 00:59:59</td>\n",
       "      <td>80.955613</td>\n",
       "      <td>3328.0</td>\n",
       "      <td>54856.0</td>\n",
       "      <td>33.995884</td>\n",
       "      <td>0.0</td>\n",
       "    </tr>\n",
       "    <tr>\n",
       "      <th>1</th>\n",
       "      <td>2018-01-01 01:00:00</td>\n",
       "      <td>0.000618</td>\n",
       "      <td>0.000625</td>\n",
       "      <td>0.000611</td>\n",
       "      <td>0.000622</td>\n",
       "      <td>89072.0</td>\n",
       "      <td>2018-01-01 01:59:59</td>\n",
       "      <td>55.013318</td>\n",
       "      <td>2653.0</td>\n",
       "      <td>39926.0</td>\n",
       "      <td>24.693081</td>\n",
       "      <td>0.0</td>\n",
       "    </tr>\n",
       "    <tr>\n",
       "      <th>2</th>\n",
       "      <td>2018-01-01 02:00:00</td>\n",
       "      <td>0.000622</td>\n",
       "      <td>0.000625</td>\n",
       "      <td>0.000620</td>\n",
       "      <td>0.000622</td>\n",
       "      <td>101296.0</td>\n",
       "      <td>2018-01-01 02:59:59</td>\n",
       "      <td>63.078538</td>\n",
       "      <td>2663.0</td>\n",
       "      <td>59607.0</td>\n",
       "      <td>37.145069</td>\n",
       "      <td>0.0</td>\n",
       "    </tr>\n",
       "    <tr>\n",
       "      <th>3</th>\n",
       "      <td>2018-01-01 03:00:00</td>\n",
       "      <td>0.000622</td>\n",
       "      <td>0.000624</td>\n",
       "      <td>0.000619</td>\n",
       "      <td>0.000622</td>\n",
       "      <td>83701.0</td>\n",
       "      <td>2018-01-01 03:59:59</td>\n",
       "      <td>52.015837</td>\n",
       "      <td>2726.0</td>\n",
       "      <td>53257.0</td>\n",
       "      <td>33.115652</td>\n",
       "      <td>0.0</td>\n",
       "    </tr>\n",
       "    <tr>\n",
       "      <th>4</th>\n",
       "      <td>2018-01-01 04:00:00</td>\n",
       "      <td>0.000622</td>\n",
       "      <td>0.000628</td>\n",
       "      <td>0.000622</td>\n",
       "      <td>0.000625</td>\n",
       "      <td>103000.0</td>\n",
       "      <td>2018-01-01 04:59:59</td>\n",
       "      <td>64.458631</td>\n",
       "      <td>2921.0</td>\n",
       "      <td>55663.0</td>\n",
       "      <td>34.841113</td>\n",
       "      <td>0.0</td>\n",
       "    </tr>\n",
       "  </tbody>\n",
       "</table>\n",
       "</div>"
      ],
      "text/plain": [
       "            Open-Time      Open      High       Low     Close    Volume  \\\n",
       "0 2018-01-01 00:00:00  0.000623  0.000625  0.000614  0.000618  130791.0   \n",
       "1 2018-01-01 01:00:00  0.000618  0.000625  0.000611  0.000622   89072.0   \n",
       "2 2018-01-01 02:00:00  0.000622  0.000625  0.000620  0.000622  101296.0   \n",
       "3 2018-01-01 03:00:00  0.000622  0.000624  0.000619  0.000622   83701.0   \n",
       "4 2018-01-01 04:00:00  0.000622  0.000628  0.000622  0.000625  103000.0   \n",
       "\n",
       "           Close-Time  Quote-Asset-Value  Number-of-Trades  \\\n",
       "0 2018-01-01 00:59:59          80.955613            3328.0   \n",
       "1 2018-01-01 01:59:59          55.013318            2653.0   \n",
       "2 2018-01-01 02:59:59          63.078538            2663.0   \n",
       "3 2018-01-01 03:59:59          52.015837            2726.0   \n",
       "4 2018-01-01 04:59:59          64.458631            2921.0   \n",
       "\n",
       "   Taker-Buy-Base-Asset-Volume  Taker-Buy-Quote-Asset-Volume  Ignore  \n",
       "0                      54856.0                     33.995884     0.0  \n",
       "1                      39926.0                     24.693081     0.0  \n",
       "2                      59607.0                     37.145069     0.0  \n",
       "3                      53257.0                     33.115652     0.0  \n",
       "4                      55663.0                     34.841113     0.0  "
      ]
     },
     "execution_count": 7,
     "metadata": {},
     "output_type": "execute_result"
    }
   ],
   "source": [
    "data = pd.read_csv(data_fp)\n",
    "data['Open-Time'] = pd.to_datetime(data['Open-Time'])\n",
    "data['Close-Time'] = pd.to_datetime(data['Close-Time'])\n",
    "print(data.shape)\n",
    "data.head()"
   ]
  },
  {
   "cell_type": "markdown",
   "metadata": {},
   "source": [
    "## 2. Define Dataset"
   ]
  },
  {
   "cell_type": "code",
   "execution_count": 8,
   "metadata": {},
   "outputs": [],
   "source": [
    "class MarketDataset(Dataset):\n",
    "    \n",
    "    def __init__(self, base_coin, quote_coin, min_time, max_time, resolution, lookback_period, forecast_period, mode):\n",
    "        self.base_coin = base_coin\n",
    "        self.quote_coin = quote_coin\n",
    "        data_fn = \"{}_{}_1h.csv\".format(base_coin, quote_coin)\n",
    "        data_fp = os.path.join(data_dir, data_fn)\n",
    "        self.data = pd.read_csv(data_fp)\n",
    "        self.data['Open-Time'] = pd.to_datetime(self.data['Open-Time'])\n",
    "        self.data['Close-Time'] = pd.to_datetime(self.data['Close-Time'])\n",
    "        self.data = self.data[self.data['Open-Time'] >= min_time]\n",
    "        self.data = self.data[self.data['Close-Time'] <= max_time]\n",
    "        self.data = self.change_resolution(self.data, resolution=resolution)\n",
    "        self.lookback_period = lookback_period # 24\n",
    "        self.forecast_period = forecast_period # 6\n",
    "        self.sequence_length = lookback_period + forecast_period # 30\n",
    "        self.mode = mode # ['train', 'test', 'predict']\n",
    "        if self.mode == 'predict':\n",
    "            assert self.forecast_period == 1\n",
    "        self.data['Close-Change'] = self.data['Close'].diff(periods=1) / self.data['Close'].shift(periods=1)\n",
    "        self.data['Close-Change-Class'] = self.data['Close-Change'].apply(self.map_change)\n",
    "        self.start_indices = self.find_valid_start_indices()\n",
    "        self.price_columns = ['Open', 'High', 'Low', 'Close']  \n",
    "        self.feature_columns = ['Open', 'High', 'Low', 'Close', 'Volume']\n",
    "         \n",
    "        \n",
    "    def aggregate_rows(self, data):\n",
    "        row = {}\n",
    "        row['Open-Time'] = data['Open-Time'].values[0]\n",
    "        row['Close-Time'] = data['Close-Time'].values[-1]\n",
    "        row['Open'] = data['Open'].values[0]\n",
    "        row['Close'] = data['Close'].values[-1]\n",
    "        row['High'] = data['High'].max()\n",
    "        row['Low'] = data['Low'].min()\n",
    "        sum_columns = ['Volume', 'Number-of-Trades', 'Taker-Buy-Base-Asset-Volume', 'Taker-Buy-Quote-Asset-Volume', 'Ignore']\n",
    "        for column in sum_columns:\n",
    "            row[column] = data[column].sum()\n",
    "        row['Quote-Asset-Value'] = data['Quote-Asset-Value'].mean()\n",
    "        return row\n",
    "\n",
    "    def change_resolution(self, data, resolution):\n",
    "        if resolution == \"1h\":\n",
    "            return data\n",
    "        elif resolution[-1] == 'h':\n",
    "            n = int(resolution[:-1])\n",
    "            if 24 % n != 0:\n",
    "                raise ValueError(\"Not Defined\")\n",
    "        elif resolution[-1] == 'd':\n",
    "            n = int(resolution[:-1]) * 24\n",
    "\n",
    "        new_data = pd.DataFrame(columns=data.columns)\n",
    "        for start_i in tqdm(range(0, len(data), n), desc=\"Changing Resolution\"):\n",
    "            row = self.aggregate_rows(data.iloc[start_i: start_i+n, :])\n",
    "            new_data = new_data.append(row, ignore_index=True)\n",
    "        return new_data\n",
    "    \n",
    "    def map_change(self, change):\n",
    "        if change > 0.02:\n",
    "            return 0 # buy\n",
    "        elif change < -0.02:\n",
    "            return 1 # sell\n",
    "        else:\n",
    "            return 2 # hold\n",
    "        \n",
    "    def find_valid_start_indices(self):\n",
    "        if self.mode in ['train', 'test']:\n",
    "            total_length = len(self.data) - self.sequence_length + 1 # 40 - 30 + 1\n",
    "        elif self.mode == \"predict\":\n",
    "            total_length = len(self.data) - self.lookback_period + 1 # 40 - 24 + 1 \n",
    "        print(\"Finding valid indices...\")\n",
    "        start_indices = [start_index for start_index in range(total_length) if self.is_valid(start_index)]\n",
    "        print(\"Done\")\n",
    "        return start_indices\n",
    "    \n",
    "    def is_valid(self, start_index):\n",
    "        if self.mode in ['train', 'test']:\n",
    "            XY = self.data.iloc[start_index: start_index+self.sequence_length]\n",
    "        elif self.mode == \"predict\":\n",
    "            XY = self.data.iloc[start_index: start_index+self.lookback_period]\n",
    "        has_na = XY.isna().any().any()\n",
    "        return np.invert(has_na)\n",
    "        \n",
    "    def __len__(self):\n",
    "        return len(self.start_indices)\n",
    "    \n",
    "    def __getitem__(self, index):\n",
    "        start_index = self.start_indices[index]\n",
    "        lookback_end_time = self.data.iloc[start_index+self.lookback_period-1, :]['Open-Time'].value // 10**9\n",
    "        x = self.data.iloc[start_index: start_index+self.lookback_period][self.feature_columns]\n",
    "                \n",
    "        min_price = x['Low'].min()\n",
    "        max_price = x['High'].max()\n",
    "        min_volume = x['Volume'].min()\n",
    "        max_volume = x['Volume'].max()\n",
    "\n",
    "        x[self.price_columns] = (x[self.price_columns] - min_price) / (max_price - min_price)\n",
    "        x['Volume'] = (x['Volume'] - min_volume) / (max_volume - min_volume)\n",
    "        x = torch.from_numpy(x.values)\n",
    "        \n",
    "        if self.mode in ['train', 'test']:\n",
    "            y = self.data.iloc[start_index+self.lookback_period: start_index+self.sequence_length]['Close-Change-Class']\n",
    "            y = torch.from_numpy(y.values)\n",
    "        elif self.mode == \"predict\":\n",
    "            y = None\n",
    "        \n",
    "        normalizing_parameters = [min_price, max_price, min_volume, max_volume]\n",
    "        return x, y, lookback_end_time, normalizing_parameters"
   ]
  },
  {
   "cell_type": "code",
   "execution_count": 10,
   "metadata": {},
   "outputs": [],
   "source": [
    "base_coin = \"BNB\"\n",
    "quote_coin = \"BTC\"\n",
    "dt_format = \"%Y-%m-%dT%H:%M:%S\"\n",
    "min_time = \"2018-01-01T00:00:00\"\n",
    "max_time = \"2020-01-01T00:00:00\"\n",
    "resolution = \"1d\"\n",
    "lookback_period = 30\n",
    "forecast_period = 4\n",
    "mode = 'train'\n",
    "\n",
    "min_time = pd.to_datetime(min_time, format=dt_format)\n",
    "max_time = pd.to_datetime(max_time, format=dt_format)"
   ]
  },
  {
   "cell_type": "code",
   "execution_count": 11,
   "metadata": {},
   "outputs": [
    {
     "data": {
      "application/vnd.jupyter.widget-view+json": {
       "model_id": "e5c84d1e685449c3a97f5b9ddef553f8",
       "version_major": 2,
       "version_minor": 0
      },
      "text/plain": [
       "HBox(children=(FloatProgress(value=0.0, description='Changing Resolution', max=732.0, style=ProgressStyle(desc…"
      ]
     },
     "metadata": {},
     "output_type": "display_data"
    },
    {
     "name": "stdout",
     "output_type": "stream",
     "text": [
      "\n",
      "Finding valid indices...\n",
      "Done\n"
     ]
    }
   ],
   "source": [
    "dataset = MarketDataset(base_coin=base_coin, \n",
    "                        quote_coin=quote_coin, \n",
    "                        min_time=min_time, \n",
    "                        max_time=max_time, \n",
    "                        resolution=resolution,\n",
    "                        lookback_period=lookback_period, \n",
    "                        forecast_period=forecast_period,\n",
    "                        mode=mode)"
   ]
  },
  {
   "cell_type": "code",
   "execution_count": 12,
   "metadata": {},
   "outputs": [
    {
     "name": "stdout",
     "output_type": "stream",
     "text": [
      "477\n"
     ]
    },
    {
     "data": {
      "text/plain": [
       "(tensor([[0.0786, 0.0822, 0.0000, 0.0489, 0.1480],\n",
       "         [0.0489, 0.0848, 0.0023, 0.0741, 0.1000],\n",
       "         [0.0738, 0.0824, 0.0379, 0.0603, 0.2887],\n",
       "         [0.0604, 0.3559, 0.0497, 0.2681, 0.7466],\n",
       "         [0.2672, 0.6805, 0.2651, 0.6072, 1.0000],\n",
       "         [0.6071, 0.6318, 0.4522, 0.4751, 0.3844],\n",
       "         [0.4751, 0.5613, 0.4132, 0.5209, 0.4843],\n",
       "         [0.5209, 0.6098, 0.4830, 0.5225, 0.2757],\n",
       "         [0.5243, 0.5259, 0.4361, 0.4953, 0.1052],\n",
       "         [0.4952, 0.9441, 0.4696, 0.8118, 0.4637],\n",
       "         [0.8136, 1.0000, 0.7096, 0.8303, 0.4583],\n",
       "         [0.8303, 0.8539, 0.7331, 0.7823, 0.1308],\n",
       "         [0.7823, 0.7951, 0.6938, 0.7589, 0.0534],\n",
       "         [0.7589, 0.9135, 0.6195, 0.6958, 0.2738],\n",
       "         [0.6958, 0.7007, 0.1310, 0.5202, 0.6105],\n",
       "         [0.5202, 0.6271, 0.3905, 0.5804, 0.2598],\n",
       "         [0.5804, 0.6477, 0.5461, 0.5731, 0.1383],\n",
       "         [0.5728, 0.7646, 0.5519, 0.5912, 0.0956],\n",
       "         [0.5907, 0.6001, 0.5431, 0.5634, 0.1586],\n",
       "         [0.5633, 0.5736, 0.4853, 0.5322, 0.1485],\n",
       "         [0.5322, 0.5420, 0.4809, 0.5125, 0.1635],\n",
       "         [0.5124, 0.5431, 0.4843, 0.5258, 0.0257],\n",
       "         [0.5258, 0.5584, 0.5057, 0.5260, 0.0950],\n",
       "         [0.5260, 0.5261, 0.4361, 0.4971, 0.1553],\n",
       "         [0.4971, 0.5092, 0.4759, 0.5029, 0.1784],\n",
       "         [0.5018, 0.5049, 0.4758, 0.4863, 0.1203],\n",
       "         [0.4864, 0.4962, 0.4620, 0.4829, 0.1021],\n",
       "         [0.4828, 0.4882, 0.4552, 0.4663, 0.0685],\n",
       "         [0.4663, 0.4727, 0.4445, 0.4529, 0.0067],\n",
       "         [0.4529, 0.4551, 0.4057, 0.4360, 0.0000]], dtype=torch.float64),\n",
       " tensor([1, 0, 1, 1]),\n",
       " 1517356800,\n",
       " [0.000529, 0.0018382, 1889764.3399999999, 19664373.77])"
      ]
     },
     "execution_count": 12,
     "metadata": {},
     "output_type": "execute_result"
    }
   ],
   "source": [
    "print(len(dataset))\n",
    "dataset[0]"
   ]
  },
  {
   "cell_type": "code",
   "execution_count": 13,
   "metadata": {},
   "outputs": [
    {
     "name": "stdout",
     "output_type": "stream",
     "text": [
      "torch.Size([32, 30, 5]) torch.Size([32, 4])\n"
     ]
    }
   ],
   "source": [
    "data_loader = DataLoader(dataset, batch_size=32, shuffle=True)\n",
    "data_iter = iter(data_loader)\n",
    "X, Y, _, _ = next(data_iter)\n",
    "print(X.shape, Y.shape)"
   ]
  },
  {
   "cell_type": "markdown",
   "metadata": {},
   "source": [
    "## 3. Define the model"
   ]
  },
  {
   "cell_type": "code",
   "execution_count": 14,
   "metadata": {},
   "outputs": [],
   "source": [
    "class Model(nn.Module):\n",
    "    \n",
    "    def __init__(self, input_size, hidden_size, num_layers, num_classes, forecast_period):\n",
    "        super(Model, self).__init__()\n",
    "        self.hidden_size = hidden_size\n",
    "        self.num_layers = num_layers\n",
    "        self.num_classes = num_classes\n",
    "        self.forecast_period = forecast_period\n",
    "        output_size = num_classes * forecast_period\n",
    "        self.lstm = nn.LSTM(input_size=input_size, \n",
    "                            hidden_size=hidden_size, \n",
    "                            num_layers=num_layers, \n",
    "                            batch_first=True)\n",
    "        self.fc1 = nn.Linear(hidden_size, hidden_size)\n",
    "        self.fc2 = nn.Linear(hidden_size, output_size)\n",
    "        \n",
    "    def init_hidden(self, batch_size):\n",
    "        h0 = torch.randn((self.num_layers, batch_size, self.hidden_size)).double().to(device)\n",
    "        c0 = torch.randn((self.num_layers, batch_size, self.hidden_size)).double().to(device)\n",
    "        return (h0, c0)\n",
    "    \n",
    "    def forward(self, X):\n",
    "        batch_size = X.size(0)\n",
    "        h0, c0 = self.init_hidden(batch_size)\n",
    "        out, (ht, ct) = self.lstm(X, (h0, c0)) # out -> [batch_size, time_steps, hidden_size]\n",
    "        outn = out[:,-1,:]\n",
    "        outn = outn.contiguous().view(batch_size, self.hidden_size)\n",
    "        outn = F.relu(self.fc1(outn))\n",
    "        outn = self.fc2(outn)\n",
    "        outn = outn.view((batch_size, self.num_classes, self.forecast_period))\n",
    "        return outn"
   ]
  },
  {
   "cell_type": "code",
   "execution_count": 15,
   "metadata": {},
   "outputs": [],
   "source": [
    "num_classes = 3\n",
    "input_size = 5\n",
    "hidden_size = 32\n",
    "num_layers = 1\n",
    "output_size = num_classes * forecast_period"
   ]
  },
  {
   "cell_type": "code",
   "execution_count": 16,
   "metadata": {},
   "outputs": [],
   "source": [
    "model = Model(input_size=input_size,\n",
    "              hidden_size=hidden_size, \n",
    "              num_layers=num_layers,\n",
    "              num_classes=num_classes,\n",
    "              forecast_period=forecast_period).double()"
   ]
  },
  {
   "cell_type": "code",
   "execution_count": 17,
   "metadata": {},
   "outputs": [
    {
     "name": "stdout",
     "output_type": "stream",
     "text": [
      "torch.Size([32, 30, 5]) torch.Size([32, 4])\n",
      "torch.Size([32, 3, 4])\n"
     ]
    }
   ],
   "source": [
    "X, Y, _, _ = next(data_iter)\n",
    "print(X.shape, Y.shape)\n",
    "Y_pred = model(X)\n",
    "print(Y_pred.shape)"
   ]
  },
  {
   "cell_type": "markdown",
   "metadata": {},
   "source": [
    "## 3. Define Training "
   ]
  },
  {
   "cell_type": "code",
   "execution_count": 18,
   "metadata": {},
   "outputs": [
    {
     "name": "stdout",
     "output_type": "stream",
     "text": [
      "15\n"
     ]
    }
   ],
   "source": [
    "epochs = 10\n",
    "print_every_n_epochs = epochs // 10\n",
    "lr = 0.01\n",
    "step_size = len(data_loader) * 1\n",
    "gamma = 0.95\n",
    "print(step_size)"
   ]
  },
  {
   "cell_type": "code",
   "execution_count": 19,
   "metadata": {},
   "outputs": [
    {
     "name": "stdout",
     "output_type": "stream",
     "text": [
      "0    156\n",
      "1    174\n",
      "2    402\n",
      "Name: Close-Change-Class, dtype: int64\n",
      "0    0.437711\n",
      "1    0.392431\n",
      "2    0.169858\n",
      "Name: Close-Change-Class, dtype: float64\n"
     ]
    }
   ],
   "source": [
    "class_counts = dataset.data['Close-Change-Class'].value_counts().sort_index()\n",
    "class_weights = 1 / (class_counts ** 1)\n",
    "class_weights = class_weights / class_weights.sum()\n",
    "print(class_counts)\n",
    "print(class_weights)\n",
    "class_weights = torch.tensor(class_weights)"
   ]
  },
  {
   "cell_type": "code",
   "execution_count": 20,
   "metadata": {},
   "outputs": [],
   "source": [
    "criterion = nn.CrossEntropyLoss(reduction='mean', weight=class_weights)\n",
    "optimizer = optim.Adam(model.parameters(), lr=lr)\n",
    "lr_scheduler = optim.lr_scheduler.StepLR(optimizer=optimizer, step_size=step_size, gamma=gamma)"
   ]
  },
  {
   "cell_type": "code",
   "execution_count": 21,
   "metadata": {},
   "outputs": [],
   "source": [
    "def compute_loss(Y_pred, Y, forecast_step_weights):\n",
    "    forecast_step_weights = np.array(forecast_step_weights) \n",
    "    forecast_step_weights = forecast_step_weights / forecast_step_weights.sum()\n",
    "    loss = 0\n",
    "    for i, forecast_step_weight in enumerate(forecast_step_weights):\n",
    "        loss = loss + forecast_step_weight * criterion(Y_pred[:,:,i], Y[:,i])\n",
    "    return loss"
   ]
  },
  {
   "cell_type": "code",
   "execution_count": 22,
   "metadata": {},
   "outputs": [
    {
     "data": {
      "application/vnd.jupyter.widget-view+json": {
       "model_id": "43136359e388440dbd4cbc303a576843",
       "version_major": 2,
       "version_minor": 0
      },
      "text/plain": [
       "HBox(children=(FloatProgress(value=0.0, description='Epochs', max=10.0, style=ProgressStyle(description_width=…"
      ]
     },
     "metadata": {},
     "output_type": "display_data"
    },
    {
     "data": {
      "application/vnd.jupyter.widget-view+json": {
       "model_id": "",
       "version_major": 2,
       "version_minor": 0
      },
      "text/plain": [
       "HBox(children=(FloatProgress(value=0.0, description='Epoch-1', max=15.0, style=ProgressStyle(description_width…"
      ]
     },
     "metadata": {},
     "output_type": "display_data"
    },
    {
     "name": "stdout",
     "output_type": "stream",
     "text": [
      "Epoch:1    Loss:1.1036335420514432    LR:0.009966666666666667\n"
     ]
    },
    {
     "data": {
      "application/vnd.jupyter.widget-view+json": {
       "model_id": "",
       "version_major": 2,
       "version_minor": 0
      },
      "text/plain": [
       "HBox(children=(FloatProgress(value=0.0, description='Epoch-2', max=15.0, style=ProgressStyle(description_width…"
      ]
     },
     "metadata": {},
     "output_type": "display_data"
    },
    {
     "name": "stdout",
     "output_type": "stream",
     "text": [
      "Epoch:2    Loss:1.0930519523814206    LR:0.009468333333333332\n"
     ]
    },
    {
     "data": {
      "application/vnd.jupyter.widget-view+json": {
       "model_id": "",
       "version_major": 2,
       "version_minor": 0
      },
      "text/plain": [
       "HBox(children=(FloatProgress(value=0.0, description='Epoch-3', max=15.0, style=ProgressStyle(description_width…"
      ]
     },
     "metadata": {},
     "output_type": "display_data"
    },
    {
     "name": "stdout",
     "output_type": "stream",
     "text": [
      "Epoch:3    Loss:1.0930288259924972    LR:0.008994916666666667\n"
     ]
    },
    {
     "data": {
      "application/vnd.jupyter.widget-view+json": {
       "model_id": "",
       "version_major": 2,
       "version_minor": 0
      },
      "text/plain": [
       "HBox(children=(FloatProgress(value=0.0, description='Epoch-4', max=15.0, style=ProgressStyle(description_width…"
      ]
     },
     "metadata": {},
     "output_type": "display_data"
    },
    {
     "name": "stdout",
     "output_type": "stream",
     "text": [
      "Epoch:4    Loss:1.0861304194983006    LR:0.008545170833333336\n"
     ]
    },
    {
     "data": {
      "application/vnd.jupyter.widget-view+json": {
       "model_id": "",
       "version_major": 2,
       "version_minor": 0
      },
      "text/plain": [
       "HBox(children=(FloatProgress(value=0.0, description='Epoch-5', max=15.0, style=ProgressStyle(description_width…"
      ]
     },
     "metadata": {},
     "output_type": "display_data"
    },
    {
     "name": "stdout",
     "output_type": "stream",
     "text": [
      "Epoch:5    Loss:1.0844217446150533    LR:0.008117912291666664\n"
     ]
    },
    {
     "data": {
      "application/vnd.jupyter.widget-view+json": {
       "model_id": "",
       "version_major": 2,
       "version_minor": 0
      },
      "text/plain": [
       "HBox(children=(FloatProgress(value=0.0, description='Epoch-6', max=15.0, style=ProgressStyle(description_width…"
      ]
     },
     "metadata": {},
     "output_type": "display_data"
    },
    {
     "name": "stdout",
     "output_type": "stream",
     "text": [
      "Epoch:6    Loss:1.079645042616733    LR:0.007712016677083334\n"
     ]
    },
    {
     "data": {
      "application/vnd.jupyter.widget-view+json": {
       "model_id": "",
       "version_major": 2,
       "version_minor": 0
      },
      "text/plain": [
       "HBox(children=(FloatProgress(value=0.0, description='Epoch-7', max=15.0, style=ProgressStyle(description_width…"
      ]
     },
     "metadata": {},
     "output_type": "display_data"
    },
    {
     "name": "stdout",
     "output_type": "stream",
     "text": [
      "Epoch:7    Loss:1.0745423237230944    LR:0.007326415843229166\n"
     ]
    },
    {
     "data": {
      "application/vnd.jupyter.widget-view+json": {
       "model_id": "",
       "version_major": 2,
       "version_minor": 0
      },
      "text/plain": [
       "HBox(children=(FloatProgress(value=0.0, description='Epoch-8', max=15.0, style=ProgressStyle(description_width…"
      ]
     },
     "metadata": {},
     "output_type": "display_data"
    },
    {
     "name": "stdout",
     "output_type": "stream",
     "text": [
      "Epoch:8    Loss:1.0700654876422526    LR:0.006960095051067706\n"
     ]
    },
    {
     "data": {
      "application/vnd.jupyter.widget-view+json": {
       "model_id": "",
       "version_major": 2,
       "version_minor": 0
      },
      "text/plain": [
       "HBox(children=(FloatProgress(value=0.0, description='Epoch-9', max=15.0, style=ProgressStyle(description_width…"
      ]
     },
     "metadata": {},
     "output_type": "display_data"
    },
    {
     "name": "stdout",
     "output_type": "stream",
     "text": [
      "Epoch:9    Loss:1.069283875272984    LR:0.00661209029851432\n"
     ]
    },
    {
     "data": {
      "application/vnd.jupyter.widget-view+json": {
       "model_id": "",
       "version_major": 2,
       "version_minor": 0
      },
      "text/plain": [
       "HBox(children=(FloatProgress(value=0.0, description='Epoch-10', max=15.0, style=ProgressStyle(description_widt…"
      ]
     },
     "metadata": {},
     "output_type": "display_data"
    },
    {
     "name": "stdout",
     "output_type": "stream",
     "text": [
      "Epoch:10    Loss:1.0689697956038415    LR:0.006281485783588604\n",
      "\n"
     ]
    }
   ],
   "source": [
    "epoch_losses = []\n",
    "epoch_lrs = []\n",
    "iteration_losses = []\n",
    "iteration_lrs = []\n",
    "forecast_step_weights = [1, 1, 1, 1]\n",
    "\n",
    "for epoch in tqdm(range(1, epochs+1), desc=\"Epochs\"):\n",
    "    epoch_loss = 0\n",
    "    epoch_lr = 0\n",
    "    \n",
    "    for i, (X, Y, _, _) in tqdm(enumerate(data_loader, 1), leave=False, total=len(data_loader), desc=\"Epoch-{}\".format(epoch)):\n",
    "    #for i, (X, Y) in enumerate(train_loader, 1):\n",
    "        X, Y = X.to(device), Y.to(device)\n",
    "\n",
    "        optimizer.zero_grad()\n",
    "        Y_pred = model(X)\n",
    "        loss = compute_loss(Y_pred, Y, forecast_step_weights)\n",
    "        loss.backward()\n",
    "        optimizer.step()\n",
    "        lr_scheduler.step()\n",
    "        \n",
    "        iteration_losses.append(loss.item())\n",
    "        iteration_lrs.append(lr_scheduler.get_last_lr()[0])\n",
    "        epoch_loss += loss.item()\n",
    "        epoch_lr += lr_scheduler.get_last_lr()[0]\n",
    "        \n",
    "    epoch_loss /= len(data_loader)\n",
    "    epoch_lr /= len(data_loader)\n",
    "    epoch_losses.append(epoch_loss)\n",
    "    epoch_lrs.append(epoch_lr)\n",
    "    \n",
    "    if epoch % print_every_n_epochs == 0:    \n",
    "        message = \"Epoch:{}    Loss:{}    LR:{}\".format(epoch, epoch_loss, epoch_lr)\n",
    "        print(message)"
   ]
  },
  {
   "cell_type": "code",
   "execution_count": 23,
   "metadata": {},
   "outputs": [
    {
     "data": {
      "image/png": "[encoded data removed]",
      "text/plain": [
       "<Figure size 1080x576 with 2 Axes>"
      ]
     },
     "metadata": {
      "needs_background": "light"
     },
     "output_type": "display_data"
    }
   ],
   "source": [
    "fig, (ax1, ax2) = plt.subplots(2, 1, sharex=True, figsize=(15, 8))\n",
    "ax1.plot(epoch_losses, marker=\"o\", markersize=5)\n",
    "ax1.set_title(\"Loss\")\n",
    "ax2.plot(epoch_lrs, marker=\"o\", markersize=5)\n",
    "ax2.set_title(\"LR\")\n",
    "plt.xlabel(\"Epochs\")\n",
    "plt.show()"
   ]
  },
  {
   "cell_type": "code",
   "execution_count": 24,
   "metadata": {},
   "outputs": [
    {
     "data": {
      "image/png": "[encoded data removed]",
      "text/plain": [
       "<Figure size 1080x576 with 2 Axes>"
      ]
     },
     "metadata": {
      "needs_background": "light"
     },
     "output_type": "display_data"
    }
   ],
   "source": [
    "fig, (ax1, ax2) = plt.subplots(2, 1, sharex=True, figsize=(15, 8))\n",
    "ax1.plot(iteration_losses[::])\n",
    "ax1.set_title(\"Loss\")\n",
    "ax2.plot(iteration_lrs[::])\n",
    "ax2.set_title(\"LR\")\n",
    "plt.xlabel(\"Iterations\")\n",
    "plt.show()"
   ]
  },
  {
   "cell_type": "code",
   "execution_count": 25,
   "metadata": {},
   "outputs": [
    {
     "name": "stdout",
     "output_type": "stream",
     "text": [
      "Models/Trend-Classification/BNB_BTC_1d_30_4.pth\n"
     ]
    }
   ],
   "source": [
    "parameters = [base_coin, quote_coin, resolution, lookback_period, forecast_period]\n",
    "model_fn = \"{}_{}_{}_{}_{}.pth\".format(*parameters)\n",
    "model_fp = os.path.join(\"Models\", \"Trend-Classification\", model_fn)\n",
    "print(model_fp)"
   ]
  },
  {
   "cell_type": "code",
   "execution_count": 26,
   "metadata": {},
   "outputs": [],
   "source": [
    "torch.save(model.state_dict(), model_fp)"
   ]
  },
  {
   "cell_type": "markdown",
   "metadata": {},
   "source": [
    "## 4. Define prediction"
   ]
  },
  {
   "cell_type": "code",
   "execution_count": 27,
   "metadata": {},
   "outputs": [],
   "source": [
    "base_coin = \"BNB\"\n",
    "quote_coin = \"BTC\"\n",
    "dt_format = \"%Y-%m-%dT%H:%M:%S\"\n",
    "min_time = \"2020-01-01T00:00:00\"\n",
    "max_time = \"2020-05-30T00:00:00\"\n",
    "resolution = resolution\n",
    "lookback_period = lookback_period\n",
    "forecast_period_train = 4\n",
    "forecast_period_predict = 1###\n",
    "mode = 'predict'\n",
    "\n",
    "min_time = pd.to_datetime(min_time, format=dt_format)\n",
    "max_time = pd.to_datetime(max_time, format=dt_format)"
   ]
  },
  {
   "cell_type": "code",
   "execution_count": 28,
   "metadata": {},
   "outputs": [
    {
     "data": {
      "application/vnd.jupyter.widget-view+json": {
       "model_id": "7eeb50bac872465b8fc91e564e4205eb",
       "version_major": 2,
       "version_minor": 0
      },
      "text/plain": [
       "HBox(children=(FloatProgress(value=0.0, description='Changing Resolution', max=134.0, style=ProgressStyle(desc…"
      ]
     },
     "metadata": {},
     "output_type": "display_data"
    },
    {
     "name": "stdout",
     "output_type": "stream",
     "text": [
      "\n",
      "Finding valid indices...\n",
      "Done\n",
      "104\n"
     ]
    }
   ],
   "source": [
    "dataset = MarketDataset(base_coin=base_coin, \n",
    "                        quote_coin=quote_coin, \n",
    "                        min_time=min_time, \n",
    "                        max_time=max_time, \n",
    "                        resolution=resolution,\n",
    "                        lookback_period=lookback_period, \n",
    "                        forecast_period=forecast_period_predict,\n",
    "                        mode=mode)\n",
    "print(len(dataset))"
   ]
  },
  {
   "cell_type": "code",
   "execution_count": 29,
   "metadata": {},
   "outputs": [
    {
     "name": "stdout",
     "output_type": "stream",
     "text": [
      "torch.Size([30, 5]) None 1589328000\n",
      "2020-05-13 00:00:00 UTC\n"
     ]
    }
   ],
   "source": [
    "x, y, lookback_end_time, normalizing_parameters = dataset[len(dataset)-1]\n",
    "print(x.shape, y, lookback_end_time)\n",
    "print(pd.Timestamp(lookback_end_time, unit='s'), \"UTC\")"
   ]
  },
  {
   "cell_type": "code",
   "execution_count": 30,
   "metadata": {},
   "outputs": [],
   "source": [
    "parameters = [base_coin, quote_coin, resolution, lookback_period, forecast_period_train]\n",
    "model_fn = \"{}_{}_{}_{}_{}.pth\".format(*parameters)\n",
    "model_fp = os.path.join(\"Models\", \"Trend-Classification\", model_fn)"
   ]
  },
  {
   "cell_type": "code",
   "execution_count": 31,
   "metadata": {},
   "outputs": [
    {
     "data": {
      "text/plain": [
       "Model(\n",
       "  (lstm): LSTM(5, 32, batch_first=True)\n",
       "  (fc1): Linear(in_features=32, out_features=32, bias=True)\n",
       "  (fc2): Linear(in_features=32, out_features=12, bias=True)\n",
       ")"
      ]
     },
     "execution_count": 31,
     "metadata": {},
     "output_type": "execute_result"
    }
   ],
   "source": [
    "model = Model(input_size=input_size,\n",
    "              hidden_size=hidden_size, \n",
    "              num_layers=num_layers,\n",
    "              num_classes=num_classes,\n",
    "              forecast_period=forecast_period).double()\n",
    "model.load_state_dict(torch.load(model_fp))\n",
    "model.eval()"
   ]
  },
  {
   "cell_type": "code",
   "execution_count": 32,
   "metadata": {},
   "outputs": [
    {
     "name": "stdout",
     "output_type": "stream",
     "text": [
      "Lookback endtime (Last Open-Time): 2020-05-09 00:00:00 UTC\n",
      "Resolution: 1d\n",
      "Future predictions...\n",
      "tensor([[[ 0.1053,  0.1907,  0.1138,  0.1348],\n",
      "         [ 0.0090, -0.0781, -0.1366, -0.0403],\n",
      "         [-0.2888, -0.1894, -0.2846, -0.1703]]], dtype=torch.float64,\n",
      "       grad_fn=<ViewBackward>)\n",
      "[[[0.38722071 0.40849583 0.40818676 0.38814407]\n",
      "  [0.35168723 0.31219506 0.3177677  0.32578311]\n",
      "  [0.26109206 0.27930911 0.27404554 0.28607282]]]\n",
      "[[0 0 0 0]]\n"
     ]
    }
   ],
   "source": [
    "index = len(dataset)-5\n",
    "x, y, lookback_end_time, normalizing_parameters = dataset[index]\n",
    "X = x.unsqueeze(0)\n",
    "Y_pred = model(X)\n",
    "print(\"Lookback endtime (Last Open-Time): {} UTC\".format(pd.Timestamp(lookback_end_time, unit='s')))\n",
    "print(\"Resolution: {}\".format(resolution))\n",
    "probabilities = torch.exp(Y_pred)\n",
    "probabilities /= probabilities.sum(axis=1)\n",
    "probabilities = probabilities.detach().numpy()\n",
    "indices = torch.argmax(Y_pred, dim=1).detach().numpy()\n",
    "print(\"Future predictions...\")\n",
    "print(Y_pred)\n",
    "print(probabilities)\n",
    "print(indices)"
   ]
  },
  {
   "cell_type": "code",
   "execution_count": 33,
   "metadata": {},
   "outputs": [
    {
     "data": {
      "text/html": [
       "<div>\n",
       "<style scoped>\n",
       "    .dataframe tbody tr th:only-of-type {\n",
       "        vertical-align: middle;\n",
       "    }\n",
       "\n",
       "    .dataframe tbody tr th {\n",
       "        vertical-align: top;\n",
       "    }\n",
       "\n",
       "    .dataframe thead th {\n",
       "        text-align: right;\n",
       "    }\n",
       "</style>\n",
       "<table border=\"1\" class=\"dataframe\">\n",
       "  <thead>\n",
       "    <tr style=\"text-align: right;\">\n",
       "      <th></th>\n",
       "      <th>Open-Time</th>\n",
       "      <th>Close-Change</th>\n",
       "      <th>Close-Change-Class</th>\n",
       "    </tr>\n",
       "  </thead>\n",
       "  <tbody>\n",
       "    <tr>\n",
       "      <th>129</th>\n",
       "      <td>2020-05-09</td>\n",
       "      <td>0.005893</td>\n",
       "      <td>2</td>\n",
       "    </tr>\n",
       "    <tr>\n",
       "      <th>130</th>\n",
       "      <td>2020-05-10</td>\n",
       "      <td>0.000853</td>\n",
       "      <td>2</td>\n",
       "    </tr>\n",
       "    <tr>\n",
       "      <th>131</th>\n",
       "      <td>2020-05-11</td>\n",
       "      <td>0.001478</td>\n",
       "      <td>2</td>\n",
       "    </tr>\n",
       "    <tr>\n",
       "      <th>132</th>\n",
       "      <td>2020-05-12</td>\n",
       "      <td>0.017023</td>\n",
       "      <td>2</td>\n",
       "    </tr>\n",
       "    <tr>\n",
       "      <th>133</th>\n",
       "      <td>2020-05-13</td>\n",
       "      <td>-0.007811</td>\n",
       "      <td>2</td>\n",
       "    </tr>\n",
       "  </tbody>\n",
       "</table>\n",
       "</div>"
      ],
      "text/plain": [
       "     Open-Time  Close-Change  Close-Change-Class\n",
       "129 2020-05-09      0.005893                   2\n",
       "130 2020-05-10      0.000853                   2\n",
       "131 2020-05-11      0.001478                   2\n",
       "132 2020-05-12      0.017023                   2\n",
       "133 2020-05-13     -0.007811                   2"
      ]
     },
     "execution_count": 33,
     "metadata": {},
     "output_type": "execute_result"
    }
   ],
   "source": [
    "dataset.data[['Open-Time', 'Close-Change', 'Close-Change-Class']].tail()"
   ]
  },
  {
   "cell_type": "code",
   "execution_count": null,
   "metadata": {},
   "outputs": [],
   "source": []
  },
  {
   "cell_type": "code",
   "execution_count": null,
   "metadata": {},
   "outputs": [],
   "source": []
  }
 ],
 "metadata": {
  "kernelspec": {
   "display_name": "Python 3",
   "language": "python",
   "name": "python3"
  },
  "language_info": {
   "codemirror_mode": {
    "name": "ipython",
    "version": 3
   },
   "file_extension": ".py",
   "mimetype": "text/x-python",
   "name": "python",
   "nbconvert_exporter": "python",
   "pygments_lexer": "ipython3",
   "version": "3.8.2"
  }
 },
 "nbformat": 4,
 "nbformat_minor": 4
}
