{
 "cells": [
  {
   "cell_type": "code",
   "execution_count": 1,
   "metadata": {},
   "outputs": [],
   "source": [
    "import os\n",
    "import numpy as np\n",
    "import pandas as pd\n",
    "import matplotlib.pyplot as plt\n",
    "import re\n",
    "from tqdm.notebook import tqdm\n",
    "\n",
    "import torch\n",
    "import torch.nn as nn\n",
    "import torch.nn.functional as F\n",
    "import torch.optim as optim\n",
    "from torch.utils.data import Dataset, DataLoader"
   ]
  },
  {
   "cell_type": "code",
   "execution_count": 2,
   "metadata": {},
   "outputs": [],
   "source": [
    "device = \"cuda:0\" if torch.cuda.is_available() else \"cpu\"\n",
    "device = torch.device(device)"
   ]
  },
  {
   "cell_type": "markdown",
   "metadata": {},
   "source": [
    "## 1. Setup"
   ]
  },
  {
   "cell_type": "code",
   "execution_count": 3,
   "metadata": {},
   "outputs": [
    {
     "name": "stdout",
     "output_type": "stream",
     "text": [
      "194\n",
      "['ADA_BTC_1h.csv', 'ADA_ETH_1h.csv', 'ADX_BTC_1h.csv', 'ADX_ETH_1h.csv', 'AION_BNB_1h.csv']\n"
     ]
    }
   ],
   "source": [
    "data_dir = \"Data/OHLCV\"\n",
    "pattern = re.compile('[A-Z]+_[A-Z]+_[0-9a-z]+.csv')\n",
    "data_fns = [fn for fn in os.listdir(data_dir) if pattern.match(fn)]\n",
    "print(len(data_fns))\n",
    "print(data_fns[:5])"
   ]
  },
  {
   "cell_type": "code",
   "execution_count": 4,
   "metadata": {},
   "outputs": [
    {
     "data": {
      "text/html": [
       "<div>\n",
       "<style scoped>\n",
       "    .dataframe tbody tr th:only-of-type {\n",
       "        vertical-align: middle;\n",
       "    }\n",
       "\n",
       "    .dataframe tbody tr th {\n",
       "        vertical-align: top;\n",
       "    }\n",
       "\n",
       "    .dataframe thead th {\n",
       "        text-align: right;\n",
       "    }\n",
       "</style>\n",
       "<table border=\"1\" class=\"dataframe\">\n",
       "  <thead>\n",
       "    <tr style=\"text-align: right;\">\n",
       "      <th></th>\n",
       "      <th>Base-Coin</th>\n",
       "      <th>Quote-Coin</th>\n",
       "    </tr>\n",
       "  </thead>\n",
       "  <tbody>\n",
       "    <tr>\n",
       "      <th>0</th>\n",
       "      <td>ADA</td>\n",
       "      <td>BTC</td>\n",
       "    </tr>\n",
       "    <tr>\n",
       "      <th>1</th>\n",
       "      <td>ADA</td>\n",
       "      <td>ETH</td>\n",
       "    </tr>\n",
       "    <tr>\n",
       "      <th>2</th>\n",
       "      <td>ADX</td>\n",
       "      <td>BTC</td>\n",
       "    </tr>\n",
       "    <tr>\n",
       "      <th>3</th>\n",
       "      <td>ADX</td>\n",
       "      <td>ETH</td>\n",
       "    </tr>\n",
       "    <tr>\n",
       "      <th>4</th>\n",
       "      <td>AION</td>\n",
       "      <td>BNB</td>\n",
       "    </tr>\n",
       "  </tbody>\n",
       "</table>\n",
       "</div>"
      ],
      "text/plain": [
       "  Base-Coin Quote-Coin\n",
       "0       ADA        BTC\n",
       "1       ADA        ETH\n",
       "2       ADX        BTC\n",
       "3       ADX        ETH\n",
       "4      AION        BNB"
      ]
     },
     "execution_count": 4,
     "metadata": {},
     "output_type": "execute_result"
    }
   ],
   "source": [
    "symbols = []\n",
    "for fn in data_fns:\n",
    "    symbol = [fn.split(\"_\")[0], fn.split(\"_\")[1]]\n",
    "    symbols.append(symbol)\n",
    "symbols = pd.DataFrame(symbols, columns=['Base-Coin', 'Quote-Coin'])\n",
    "symbols.head()"
   ]
  },
  {
   "cell_type": "code",
   "execution_count": 5,
   "metadata": {},
   "outputs": [
    {
     "data": {
      "text/plain": [
       "BTC     84\n",
       "ETH     77\n",
       "BNB     27\n",
       "USDT     6\n",
       "Name: Quote-Coin, dtype: int64"
      ]
     },
     "execution_count": 5,
     "metadata": {},
     "output_type": "execute_result"
    }
   ],
   "source": [
    "symbols['Quote-Coin'].value_counts()"
   ]
  },
  {
   "cell_type": "code",
   "execution_count": 6,
   "metadata": {},
   "outputs": [],
   "source": [
    "data_fp = \"Data/OHLCV/BNB_BTC_1h.csv\""
   ]
  },
  {
   "cell_type": "code",
   "execution_count": 7,
   "metadata": {},
   "outputs": [
    {
     "name": "stdout",
     "output_type": "stream",
     "text": [
      "(20738, 12)\n"
     ]
    },
    {
     "data": {
      "text/html": [
       "<div>\n",
       "<style scoped>\n",
       "    .dataframe tbody tr th:only-of-type {\n",
       "        vertical-align: middle;\n",
       "    }\n",
       "\n",
       "    .dataframe tbody tr th {\n",
       "        vertical-align: top;\n",
       "    }\n",
       "\n",
       "    .dataframe thead th {\n",
       "        text-align: right;\n",
       "    }\n",
       "</style>\n",
       "<table border=\"1\" class=\"dataframe\">\n",
       "  <thead>\n",
       "    <tr style=\"text-align: right;\">\n",
       "      <th></th>\n",
       "      <th>Open-Time</th>\n",
       "      <th>Open</th>\n",
       "      <th>High</th>\n",
       "      <th>Low</th>\n",
       "      <th>Close</th>\n",
       "      <th>Volume</th>\n",
       "      <th>Close-Time</th>\n",
       "      <th>Quote-Asset-Value</th>\n",
       "      <th>Number-of-Trades</th>\n",
       "      <th>Taker-Buy-Base-Asset-Volume</th>\n",
       "      <th>Taker-Buy-Quote-Asset-Volume</th>\n",
       "      <th>Ignore</th>\n",
       "    </tr>\n",
       "  </thead>\n",
       "  <tbody>\n",
       "    <tr>\n",
       "      <th>0</th>\n",
       "      <td>2018-01-01 00:00:00</td>\n",
       "      <td>0.000623</td>\n",
       "      <td>0.000625</td>\n",
       "      <td>0.000614</td>\n",
       "      <td>0.000618</td>\n",
       "      <td>130791.0</td>\n",
       "      <td>2018-01-01 00:59:59</td>\n",
       "      <td>80.955613</td>\n",
       "      <td>3328.0</td>\n",
       "      <td>54856.0</td>\n",
       "      <td>33.995884</td>\n",
       "      <td>0.0</td>\n",
       "    </tr>\n",
       "    <tr>\n",
       "      <th>1</th>\n",
       "      <td>2018-01-01 01:00:00</td>\n",
       "      <td>0.000618</td>\n",
       "      <td>0.000625</td>\n",
       "      <td>0.000611</td>\n",
       "      <td>0.000622</td>\n",
       "      <td>89072.0</td>\n",
       "      <td>2018-01-01 01:59:59</td>\n",
       "      <td>55.013318</td>\n",
       "      <td>2653.0</td>\n",
       "      <td>39926.0</td>\n",
       "      <td>24.693081</td>\n",
       "      <td>0.0</td>\n",
       "    </tr>\n",
       "    <tr>\n",
       "      <th>2</th>\n",
       "      <td>2018-01-01 02:00:00</td>\n",
       "      <td>0.000622</td>\n",
       "      <td>0.000625</td>\n",
       "      <td>0.000620</td>\n",
       "      <td>0.000622</td>\n",
       "      <td>101296.0</td>\n",
       "      <td>2018-01-01 02:59:59</td>\n",
       "      <td>63.078538</td>\n",
       "      <td>2663.0</td>\n",
       "      <td>59607.0</td>\n",
       "      <td>37.145069</td>\n",
       "      <td>0.0</td>\n",
       "    </tr>\n",
       "    <tr>\n",
       "      <th>3</th>\n",
       "      <td>2018-01-01 03:00:00</td>\n",
       "      <td>0.000622</td>\n",
       "      <td>0.000624</td>\n",
       "      <td>0.000619</td>\n",
       "      <td>0.000622</td>\n",
       "      <td>83701.0</td>\n",
       "      <td>2018-01-01 03:59:59</td>\n",
       "      <td>52.015837</td>\n",
       "      <td>2726.0</td>\n",
       "      <td>53257.0</td>\n",
       "      <td>33.115652</td>\n",
       "      <td>0.0</td>\n",
       "    </tr>\n",
       "    <tr>\n",
       "      <th>4</th>\n",
       "      <td>2018-01-01 04:00:00</td>\n",
       "      <td>0.000622</td>\n",
       "      <td>0.000628</td>\n",
       "      <td>0.000622</td>\n",
       "      <td>0.000625</td>\n",
       "      <td>103000.0</td>\n",
       "      <td>2018-01-01 04:59:59</td>\n",
       "      <td>64.458631</td>\n",
       "      <td>2921.0</td>\n",
       "      <td>55663.0</td>\n",
       "      <td>34.841113</td>\n",
       "      <td>0.0</td>\n",
       "    </tr>\n",
       "  </tbody>\n",
       "</table>\n",
       "</div>"
      ],
      "text/plain": [
       "            Open-Time      Open      High       Low     Close    Volume  \\\n",
       "0 2018-01-01 00:00:00  0.000623  0.000625  0.000614  0.000618  130791.0   \n",
       "1 2018-01-01 01:00:00  0.000618  0.000625  0.000611  0.000622   89072.0   \n",
       "2 2018-01-01 02:00:00  0.000622  0.000625  0.000620  0.000622  101296.0   \n",
       "3 2018-01-01 03:00:00  0.000622  0.000624  0.000619  0.000622   83701.0   \n",
       "4 2018-01-01 04:00:00  0.000622  0.000628  0.000622  0.000625  103000.0   \n",
       "\n",
       "           Close-Time  Quote-Asset-Value  Number-of-Trades  \\\n",
       "0 2018-01-01 00:59:59          80.955613            3328.0   \n",
       "1 2018-01-01 01:59:59          55.013318            2653.0   \n",
       "2 2018-01-01 02:59:59          63.078538            2663.0   \n",
       "3 2018-01-01 03:59:59          52.015837            2726.0   \n",
       "4 2018-01-01 04:59:59          64.458631            2921.0   \n",
       "\n",
       "   Taker-Buy-Base-Asset-Volume  Taker-Buy-Quote-Asset-Volume  Ignore  \n",
       "0                      54856.0                     33.995884     0.0  \n",
       "1                      39926.0                     24.693081     0.0  \n",
       "2                      59607.0                     37.145069     0.0  \n",
       "3                      53257.0                     33.115652     0.0  \n",
       "4                      55663.0                     34.841113     0.0  "
      ]
     },
     "execution_count": 7,
     "metadata": {},
     "output_type": "execute_result"
    }
   ],
   "source": [
    "data = pd.read_csv(data_fp)\n",
    "data['Open-Time'] = pd.to_datetime(data['Open-Time'])\n",
    "data['Close-Time'] = pd.to_datetime(data['Close-Time'])\n",
    "print(data.shape)\n",
    "data.head()"
   ]
  },
  {
   "cell_type": "markdown",
   "metadata": {},
   "source": [
    "## 2. Define Dataset"
   ]
  },
  {
   "cell_type": "code",
   "execution_count": 8,
   "metadata": {},
   "outputs": [],
   "source": [
    "class MarketDataset(Dataset):\n",
    "    \n",
    "    def __init__(self, base_coin, quote_coin, min_time, max_time, resolution, lookback_period, forecast_period, mode):\n",
    "        self.base_coin = base_coin\n",
    "        self.quote_coin = quote_coin\n",
    "        data_fn = \"{}_{}_1h.csv\".format(base_coin, quote_coin)\n",
    "        data_fp = os.path.join(data_dir, data_fn)\n",
    "        self.data = pd.read_csv(data_fp)\n",
    "        self.data['Open-Time'] = pd.to_datetime(self.data['Open-Time'])\n",
    "        self.data['Close-Time'] = pd.to_datetime(self.data['Close-Time'])\n",
    "        self.data = self.data[self.data['Open-Time'] >= min_time]\n",
    "        self.data = self.data[self.data['Close-Time'] <= max_time]\n",
    "        self.data = self.change_resolution(self.data, resolution=resolution)\n",
    "        self.lookback_period = lookback_period # 24\n",
    "        self.forecast_period = forecast_period # 6\n",
    "        self.sequence_length = lookback_period + forecast_period # 30\n",
    "        self.mode = mode # ['train', 'test', 'predict']\n",
    "        if self.mode == 'predict':\n",
    "            assert self.forecast_period == 1\n",
    "        self.start_indices = self.find_valid_start_indices()\n",
    "        self.columns = ['Open', 'High', 'Low', 'Close', 'Volume']\n",
    "        self.price_columns = ['Open', 'High', 'Low', 'Close']   \n",
    "        \n",
    "    def aggregate_rows(self, data):\n",
    "        row = {}\n",
    "        row['Open-Time'] = data['Open-Time'].values[0]\n",
    "        row['Close-Time'] = data['Close-Time'].values[-1]\n",
    "        row['Open'] = data['Open'].values[0]\n",
    "        row['Close'] = data['Close'].values[-1]\n",
    "        row['High'] = data['High'].max()\n",
    "        row['Low'] = data['Low'].min()\n",
    "        sum_columns = ['Volume', 'Number-of-Trades', 'Taker-Buy-Base-Asset-Volume', 'Taker-Buy-Quote-Asset-Volume', 'Ignore']\n",
    "        for column in sum_columns:\n",
    "            row[column] = data[column].sum()\n",
    "        row['Quote-Asset-Value'] = data['Quote-Asset-Value'].mean()\n",
    "        return row\n",
    "\n",
    "    def change_resolution(self, data, resolution):\n",
    "        if resolution == \"1h\":\n",
    "            return data\n",
    "        elif resolution[-1] == 'h':\n",
    "            n = int(resolution[:-1])\n",
    "            if 24 % n != 0:\n",
    "                raise ValueError(\"Not Defined\")\n",
    "        elif resolution[-1] == 'd':\n",
    "            n = int(resolution[:-1]) * 24\n",
    "\n",
    "        new_data = pd.DataFrame(columns=data.columns)\n",
    "        for start_i in tqdm(range(0, len(data), n), desc=\"Changing Resolution\"):\n",
    "            row = self.aggregate_rows(data.iloc[start_i: start_i+n, :])\n",
    "            new_data = new_data.append(row, ignore_index=True)\n",
    "        return new_data\n",
    "        \n",
    "    def find_valid_start_indices(self):\n",
    "        if self.mode in ['train', 'test']:\n",
    "            total_length = len(self.data) - self.sequence_length + 1 # 40 - 30 + 1\n",
    "        elif self.mode == \"predict\":\n",
    "            total_length = len(self.data) - self.lookback_period + 1 # 40 - 24 + 1 \n",
    "        print(\"Finding valid indices...\")\n",
    "        start_indices = [start_index for start_index in range(total_length) if self.is_valid(start_index)]\n",
    "        print(\"Done\")\n",
    "        return start_indices\n",
    "    \n",
    "    def is_valid(self, start_index):\n",
    "        if self.mode in ['train', 'test']:\n",
    "            XY = self.data.iloc[start_index: start_index+self.sequence_length]\n",
    "        elif self.mode == \"predict\":\n",
    "            XY = self.data.iloc[start_index: start_index+self.lookback_period]\n",
    "        has_na = XY.isna().any().any()\n",
    "        return np.invert(has_na)\n",
    "        \n",
    "    def __len__(self):\n",
    "        return len(self.start_indices)\n",
    "    \n",
    "    def __getitem__(self, index):\n",
    "        start_index = self.start_indices[index]\n",
    "        encoder_end_time = self.data.iloc[start_index+self.lookback_period-1]['Open-Time']\n",
    "        encoder_x = self.data.iloc[start_index: start_index+self.lookback_period][self.columns]\n",
    "        decoder_x = self.data.iloc[start_index+self.lookback_period-1: start_index+self.sequence_length-1][self.columns]\n",
    "        if self.mode in ['train', 'test']:\n",
    "            decoder_y = self.data.iloc[start_index+self.lookback_period: start_index+self.sequence_length][self.columns]\n",
    "        \n",
    "        min_price = encoder_x['Low'].min()\n",
    "        max_price = encoder_x['High'].max()\n",
    "        min_volume = encoder_x['Volume'].min()\n",
    "        max_volume = encoder_x['Volume'].max()\n",
    "\n",
    "        encoder_x[self.price_columns] = (encoder_x[self.price_columns] - min_price) / (max_price - min_price)\n",
    "        encoder_x['Volume'] = (encoder_x['Volume'] - min_volume) / (max_volume - min_volume)\n",
    "        encoder_x = torch.from_numpy(encoder_x.values)\n",
    "        \n",
    "        decoder_x[self.price_columns] = (decoder_x[self.price_columns] - min_price) / (max_price - min_price)\n",
    "        decoder_x['Volume'] = (decoder_x['Volume'] - min_volume) / (max_volume - min_volume)\n",
    "        decoder_x = torch.from_numpy(decoder_x.values)\n",
    "        \n",
    "        if self.mode in ['train', 'test']:\n",
    "            decoder_y[self.price_columns] = (decoder_y[self.price_columns] - min_price) / (max_price - min_price)\n",
    "            decoder_y['Volume'] = (decoder_y['Volume'] - min_volume) / (max_volume - min_volume)\n",
    "            decoder_y = torch.from_numpy(decoder_y.values)\n",
    "            return encoder_x, decoder_x, decoder_y\n",
    "        \n",
    "        normalizing_parameters = [min_price, max_price, min_volume, max_volume]\n",
    "        return encoder_x, decoder_x, encoder_end_time, normalizing_parameters"
   ]
  },
  {
   "cell_type": "code",
   "execution_count": 9,
   "metadata": {},
   "outputs": [],
   "source": [
    "base_coin = \"BNB\"\n",
    "quote_coin = \"BTC\"\n",
    "dt_format = \"%Y-%m-%dT%H:%M:%S\"\n",
    "min_time = \"2018-01-01T00:00:00\"\n",
    "max_time = \"2020-01-01T00:00:00\"\n",
    "resolution = \"1d\"\n",
    "lookback_period = 30\n",
    "forecast_period = 4\n",
    "mode = 'train'\n",
    "\n",
    "min_time = pd.to_datetime(min_time, format=dt_format)\n",
    "max_time = pd.to_datetime(max_time, format=dt_format)"
   ]
  },
  {
   "cell_type": "code",
   "execution_count": 10,
   "metadata": {},
   "outputs": [
    {
     "data": {
      "application/vnd.jupyter.widget-view+json": {
       "model_id": "7f512d4586e74ec3b99e2fc7f91bf35d",
       "version_major": 2,
       "version_minor": 0
      },
      "text/plain": [
       "HBox(children=(FloatProgress(value=0.0, description='Changing Resolution', max=732.0, style=ProgressStyle(desc…"
      ]
     },
     "metadata": {},
     "output_type": "display_data"
    },
    {
     "name": "stdout",
     "output_type": "stream",
     "text": [
      "\n",
      "Finding valid indices...\n",
      "Done\n"
     ]
    }
   ],
   "source": [
    "dataset = MarketDataset(base_coin=base_coin, \n",
    "                        quote_coin=quote_coin, \n",
    "                        min_time=min_time, \n",
    "                        max_time=max_time, \n",
    "                        resolution=resolution,\n",
    "                        lookback_period=lookback_period, \n",
    "                        forecast_period=forecast_period,\n",
    "                        mode=mode)"
   ]
  },
  {
   "cell_type": "code",
   "execution_count": 11,
   "metadata": {},
   "outputs": [
    {
     "name": "stdout",
     "output_type": "stream",
     "text": [
      "479\n"
     ]
    },
    {
     "data": {
      "text/plain": [
       "(tensor([[0.4378, 0.4843, 0.3141, 0.4324, 0.2177],\n",
       "         [0.4259, 0.5135, 0.1622, 0.2589, 0.1918],\n",
       "         [0.2535, 0.4476, 0.2049, 0.3735, 0.3648],\n",
       "         [0.3649, 0.4081, 0.2097, 0.2811, 0.2652],\n",
       "         [0.2795, 0.5405, 0.2741, 0.4405, 0.4796],\n",
       "         [0.4346, 0.5535, 0.3070, 0.4276, 0.2838],\n",
       "         [0.4276, 0.5205, 0.2903, 0.3946, 0.0031],\n",
       "         [0.3941, 0.4968, 0.3378, 0.4243, 0.1141],\n",
       "         [0.4232, 0.4486, 0.3032, 0.3416, 0.0000],\n",
       "         [0.3416, 0.4086, 0.1357, 0.2973, 0.0242],\n",
       "         [0.2968, 0.3719, 0.1827, 0.3016, 0.0056],\n",
       "         [0.3000, 0.3784, 0.2449, 0.3476, 0.4451],\n",
       "         [0.3476, 0.3751, 0.1946, 0.3076, 0.2295],\n",
       "         [0.3076, 0.4265, 0.2281, 0.2962, 0.2994],\n",
       "         [0.2854, 0.3622, 0.2605, 0.2838, 0.3243],\n",
       "         [0.2870, 0.3508, 0.2627, 0.3254, 0.2802],\n",
       "         [0.3227, 0.9303, 0.2886, 0.6751, 1.0000],\n",
       "         [0.6751, 0.8589, 0.5676, 0.6135, 0.5962],\n",
       "         [0.6135, 0.7162, 0.5459, 0.6616, 0.4649],\n",
       "         [0.6595, 1.0000, 0.6270, 0.8573, 0.8655],\n",
       "         [0.8562, 0.8584, 0.6303, 0.7238, 0.4069],\n",
       "         [0.7238, 0.8265, 0.6524, 0.8108, 0.6386],\n",
       "         [0.8054, 0.8211, 0.6870, 0.7497, 0.4575],\n",
       "         [0.7470, 0.7811, 0.5141, 0.6173, 0.3439],\n",
       "         [0.6168, 0.7184, 0.5508, 0.5730, 0.4784],\n",
       "         [0.5730, 0.5730, 0.1843, 0.3189, 0.0786],\n",
       "         [0.3157, 0.4962, 0.2946, 0.4384, 0.3930],\n",
       "         [0.4389, 0.4459, 0.3503, 0.3995, 0.3022],\n",
       "         [0.3995, 0.4324, 0.2600, 0.2914, 0.2190],\n",
       "         [0.2849, 0.6665, 0.0000, 0.5135, 0.9694]], dtype=torch.float64),\n",
       " tensor([[0.2849, 0.6665, 0.0000, 0.5135, 0.9694],\n",
       "         [0.5135, 0.5946, 0.2822, 0.3184, 0.5275],\n",
       "         [0.3184, 0.4622, 0.2973, 0.3454, 0.5692],\n",
       "         [0.3454, 0.4054, 0.1892, 0.2724, 0.5418]], dtype=torch.float64),\n",
       " tensor([[0.5135, 0.5946, 0.2822, 0.3184, 0.5275],\n",
       "         [0.3184, 0.4622, 0.2973, 0.3454, 0.5692],\n",
       "         [0.3454, 0.4054, 0.1892, 0.2724, 0.5418],\n",
       "         [0.2665, 0.3589, 0.2497, 0.3227, 0.3058]], dtype=torch.float64))"
      ]
     },
     "execution_count": 11,
     "metadata": {},
     "output_type": "execute_result"
    }
   ],
   "source": [
    "print(len(dataset))\n",
    "dataset[180]"
   ]
  },
  {
   "cell_type": "code",
   "execution_count": 12,
   "metadata": {},
   "outputs": [
    {
     "name": "stdout",
     "output_type": "stream",
     "text": [
      "torch.Size([32, 30, 5]) torch.Size([32, 4, 5]) torch.Size([32, 4, 5])\n"
     ]
    }
   ],
   "source": [
    "data_loader = DataLoader(dataset, batch_size=32, shuffle=True)\n",
    "data_iter = iter(data_loader)\n",
    "encoder_X, decoder_X, decoder_Y = next(data_iter)\n",
    "print(encoder_X.shape, decoder_X.shape,  decoder_Y.shape)"
   ]
  },
  {
   "cell_type": "markdown",
   "metadata": {},
   "source": [
    "## 3. Define the model"
   ]
  },
  {
   "cell_type": "code",
   "execution_count": 13,
   "metadata": {},
   "outputs": [],
   "source": [
    "class Encoder(nn.Module):\n",
    "    \n",
    "    def __init__(self, input_size, hidden_size, num_layers):\n",
    "        super(Encoder, self).__init__()\n",
    "        self.hidden_size = hidden_size\n",
    "        self.num_layers = num_layers\n",
    "        self.lstm = nn.LSTM(input_size=input_size, \n",
    "                            hidden_size=hidden_size, \n",
    "                            num_layers=num_layers, \n",
    "                            batch_first=True)\n",
    "        \n",
    "    def init_hidden(self, batch_size):\n",
    "        h0 = torch.randn((self.num_layers, batch_size, self.hidden_size)).double().to(device)\n",
    "        c0 = torch.randn((self.num_layers, batch_size, self.hidden_size)).double().to(device)\n",
    "        return (h0, c0)\n",
    "    \n",
    "    def forward(self, X):\n",
    "        h0, c0 = self.init_hidden(X.size(0))\n",
    "        out, (ht, ct) = self.lstm(X, (h0, c0)) # out -> [batch_size, time_steps, hidden_size]\n",
    "        return out, (ht, ct)"
   ]
  },
  {
   "cell_type": "code",
   "execution_count": 14,
   "metadata": {},
   "outputs": [],
   "source": [
    "class Decoder(nn.Module):\n",
    "    \n",
    "    def __init__(self, input_size, hidden_size, num_layers, output_size):\n",
    "        super(Decoder, self).__init__()\n",
    "        self.hidden_size = hidden_size\n",
    "        self.num_layers = num_layers\n",
    "        self.lstm = nn.LSTM(input_size=input_size, \n",
    "                             hidden_size=hidden_size, \n",
    "                             num_layers=num_layers, \n",
    "                             batch_first=True)\n",
    "        self.fc = nn.Linear(hidden_size, output_size)\n",
    "    \n",
    "    def forward(self, Y, hidden):\n",
    "        h0, c0 = hidden\n",
    "        out, (ht, ct) = self.lstm(Y, (h0, c0)) # out -> [batch_size, time_steps, hidden_size]\n",
    "        out = F.relu(self.fc(out))\n",
    "        return out, (ht, ct)"
   ]
  },
  {
   "cell_type": "code",
   "execution_count": 15,
   "metadata": {},
   "outputs": [],
   "source": [
    "input_size = 5\n",
    "hidden_size = 32\n",
    "num_layers = 1\n",
    "output_size = 5"
   ]
  },
  {
   "cell_type": "code",
   "execution_count": 16,
   "metadata": {},
   "outputs": [],
   "source": [
    "encoder = Encoder(input_size=input_size,\n",
    "                  hidden_size=hidden_size, \n",
    "                  num_layers=num_layers).double()\n",
    "decoder = Decoder(input_size=input_size,\n",
    "                  hidden_size=hidden_size, \n",
    "                  num_layers=num_layers, \n",
    "                  output_size=output_size).double()"
   ]
  },
  {
   "cell_type": "code",
   "execution_count": 17,
   "metadata": {},
   "outputs": [
    {
     "name": "stdout",
     "output_type": "stream",
     "text": [
      "torch.Size([32, 30, 5]) torch.Size([32, 4, 5]) torch.Size([32, 4, 5])\n",
      "torch.Size([32, 30, 32]) torch.Size([1, 32, 32]) torch.Size([1, 32, 32])\n",
      "torch.Size([32, 4, 5]) torch.Size([1, 32, 32]) torch.Size([1, 32, 32])\n"
     ]
    }
   ],
   "source": [
    "encoder_X, decoder_X, decoder_Y = next(data_iter)\n",
    "print(encoder_X.shape, decoder_X.shape,  decoder_Y.shape)\n",
    "out, (ht, ct) = encoder(encoder_X)\n",
    "print(out.shape, ht.shape, ct.shape)\n",
    "hidden = (ht, ct)\n",
    "out, (ht, ct) = decoder(decoder_X, hidden)\n",
    "print(out.shape, ht.shape, ct.shape)"
   ]
  },
  {
   "cell_type": "markdown",
   "metadata": {},
   "source": [
    "## 3. Define Training "
   ]
  },
  {
   "cell_type": "code",
   "execution_count": 18,
   "metadata": {},
   "outputs": [
    {
     "name": "stdout",
     "output_type": "stream",
     "text": [
      "15\n"
     ]
    }
   ],
   "source": [
    "epochs = 10\n",
    "print_every_n_epochs = epochs // 10\n",
    "lr = 0.01\n",
    "step_size = len(data_loader) * 1\n",
    "gamma = 0.95\n",
    "print(step_size)"
   ]
  },
  {
   "cell_type": "code",
   "execution_count": 19,
   "metadata": {},
   "outputs": [],
   "source": [
    "criterion = nn.MSELoss(reduction='mean')\n",
    "parameters = list(encoder.parameters()) + list(decoder.parameters())\n",
    "optimizer = optim.Adam(parameters, lr=lr)\n",
    "lr_scheduler = optim.lr_scheduler.StepLR(optimizer=optimizer, step_size=step_size, gamma=gamma)"
   ]
  },
  {
   "cell_type": "code",
   "execution_count": 20,
   "metadata": {},
   "outputs": [],
   "source": [
    "def compute_loss(decoder_Y_pred, decoder_Y, weights):\n",
    "    weights = np.array(weights) \n",
    "    weights = weights / weights.sum()\n",
    "    loss = 0\n",
    "    for i, weight in enumerate(weights):\n",
    "        loss = loss + weight * criterion(decoder_Y_pred[:,:,i], decoder_Y[:,:,i])\n",
    "    return loss"
   ]
  },
  {
   "cell_type": "code",
   "execution_count": 21,
   "metadata": {},
   "outputs": [
    {
     "data": {
      "application/vnd.jupyter.widget-view+json": {
       "model_id": "b0a28d8fb3114e51ad2bc6a1a47bc5af",
       "version_major": 2,
       "version_minor": 0
      },
      "text/plain": [
       "HBox(children=(FloatProgress(value=0.0, description='Epochs', max=10.0, style=ProgressStyle(description_width=…"
      ]
     },
     "metadata": {},
     "output_type": "display_data"
    },
    {
     "data": {
      "application/vnd.jupyter.widget-view+json": {
       "model_id": "",
       "version_major": 2,
       "version_minor": 0
      },
      "text/plain": [
       "HBox(children=(FloatProgress(value=0.0, description='Epoch-1', max=15.0, style=ProgressStyle(description_width…"
      ]
     },
     "metadata": {},
     "output_type": "display_data"
    },
    {
     "name": "stdout",
     "output_type": "stream",
     "text": [
      "Epoch:1    Loss:0.24585168128897264    LR:0.009966666666666667\n"
     ]
    },
    {
     "data": {
      "application/vnd.jupyter.widget-view+json": {
       "model_id": "",
       "version_major": 2,
       "version_minor": 0
      },
      "text/plain": [
       "HBox(children=(FloatProgress(value=0.0, description='Epoch-2', max=15.0, style=ProgressStyle(description_width…"
      ]
     },
     "metadata": {},
     "output_type": "display_data"
    },
    {
     "name": "stdout",
     "output_type": "stream",
     "text": [
      "Epoch:2    Loss:0.14125259678197372    LR:0.009468333333333332\n"
     ]
    },
    {
     "data": {
      "application/vnd.jupyter.widget-view+json": {
       "model_id": "",
       "version_major": 2,
       "version_minor": 0
      },
      "text/plain": [
       "HBox(children=(FloatProgress(value=0.0, description='Epoch-3', max=15.0, style=ProgressStyle(description_width…"
      ]
     },
     "metadata": {},
     "output_type": "display_data"
    },
    {
     "name": "stdout",
     "output_type": "stream",
     "text": [
      "Epoch:3    Loss:0.12994067987174815    LR:0.008994916666666667\n"
     ]
    },
    {
     "data": {
      "application/vnd.jupyter.widget-view+json": {
       "model_id": "",
       "version_major": 2,
       "version_minor": 0
      },
      "text/plain": [
       "HBox(children=(FloatProgress(value=0.0, description='Epoch-4', max=15.0, style=ProgressStyle(description_width…"
      ]
     },
     "metadata": {},
     "output_type": "display_data"
    },
    {
     "name": "stdout",
     "output_type": "stream",
     "text": [
      "Epoch:4    Loss:0.12530574529975239    LR:0.008545170833333336\n"
     ]
    },
    {
     "data": {
      "application/vnd.jupyter.widget-view+json": {
       "model_id": "",
       "version_major": 2,
       "version_minor": 0
      },
      "text/plain": [
       "HBox(children=(FloatProgress(value=0.0, description='Epoch-5', max=15.0, style=ProgressStyle(description_width…"
      ]
     },
     "metadata": {},
     "output_type": "display_data"
    },
    {
     "name": "stdout",
     "output_type": "stream",
     "text": [
      "Epoch:5    Loss:0.12228546752118184    LR:0.008117912291666664\n"
     ]
    },
    {
     "data": {
      "application/vnd.jupyter.widget-view+json": {
       "model_id": "",
       "version_major": 2,
       "version_minor": 0
      },
      "text/plain": [
       "HBox(children=(FloatProgress(value=0.0, description='Epoch-6', max=15.0, style=ProgressStyle(description_width…"
      ]
     },
     "metadata": {},
     "output_type": "display_data"
    },
    {
     "name": "stdout",
     "output_type": "stream",
     "text": [
      "Epoch:6    Loss:0.1209939225770585    LR:0.007712016677083334\n"
     ]
    },
    {
     "data": {
      "application/vnd.jupyter.widget-view+json": {
       "model_id": "",
       "version_major": 2,
       "version_minor": 0
      },
      "text/plain": [
       "HBox(children=(FloatProgress(value=0.0, description='Epoch-7', max=15.0, style=ProgressStyle(description_width…"
      ]
     },
     "metadata": {},
     "output_type": "display_data"
    },
    {
     "name": "stdout",
     "output_type": "stream",
     "text": [
      "Epoch:7    Loss:0.12049300506051616    LR:0.007326415843229166\n"
     ]
    },
    {
     "data": {
      "application/vnd.jupyter.widget-view+json": {
       "model_id": "",
       "version_major": 2,
       "version_minor": 0
      },
      "text/plain": [
       "HBox(children=(FloatProgress(value=0.0, description='Epoch-8', max=15.0, style=ProgressStyle(description_width…"
      ]
     },
     "metadata": {},
     "output_type": "display_data"
    },
    {
     "name": "stdout",
     "output_type": "stream",
     "text": [
      "Epoch:8    Loss:0.12006888171844789    LR:0.006960095051067706\n"
     ]
    },
    {
     "data": {
      "application/vnd.jupyter.widget-view+json": {
       "model_id": "",
       "version_major": 2,
       "version_minor": 0
      },
      "text/plain": [
       "HBox(children=(FloatProgress(value=0.0, description='Epoch-9', max=15.0, style=ProgressStyle(description_width…"
      ]
     },
     "metadata": {},
     "output_type": "display_data"
    },
    {
     "name": "stdout",
     "output_type": "stream",
     "text": [
      "Epoch:9    Loss:0.11974944193875288    LR:0.00661209029851432\n"
     ]
    },
    {
     "data": {
      "application/vnd.jupyter.widget-view+json": {
       "model_id": "",
       "version_major": 2,
       "version_minor": 0
      },
      "text/plain": [
       "HBox(children=(FloatProgress(value=0.0, description='Epoch-10', max=15.0, style=ProgressStyle(description_widt…"
      ]
     },
     "metadata": {},
     "output_type": "display_data"
    },
    {
     "name": "stdout",
     "output_type": "stream",
     "text": [
      "Epoch:10    Loss:0.11972873929020661    LR:0.006281485783588604\n",
      "\n"
     ]
    }
   ],
   "source": [
    "epoch_losses = []\n",
    "epoch_lrs = []\n",
    "iteration_losses = []\n",
    "iteration_lrs = []\n",
    "weights = [1, 1, 1, 1, 1]\n",
    "\n",
    "for epoch in tqdm(range(1, epochs+1), desc=\"Epochs\"):\n",
    "    epoch_loss = 0\n",
    "    epoch_lr = 0\n",
    "    \n",
    "    for i, (encoder_X, decoder_X, decoder_Y) in tqdm(enumerate(data_loader, 1), leave=False, total=len(data_loader), desc=\"Epoch-{}\".format(epoch)):\n",
    "    #for i, (X, Y) in enumerate(train_loader, 1):\n",
    "        encoder_X, decoder_X, decoder_Y = encoder_X.to(device), decoder_X.to(device), decoder_Y.to(device)\n",
    "        \n",
    "\n",
    "        optimizer.zero_grad()\n",
    "        out, hidden = encoder(encoder_X)\n",
    "        decoder_Y_pred, (ht, ct) = decoder(decoder_X, hidden) # out: [batch_size, timesteps, features]\n",
    "        loss = compute_loss(decoder_Y_pred, decoder_Y, weights)\n",
    "        loss.backward()\n",
    "        optimizer.step()\n",
    "        lr_scheduler.step()\n",
    "        \n",
    "        iteration_losses.append(loss.item())\n",
    "        iteration_lrs.append(lr_scheduler.get_last_lr()[0])\n",
    "        epoch_loss += loss.item()\n",
    "        epoch_lr += lr_scheduler.get_last_lr()[0]\n",
    "        \n",
    "    epoch_loss /= len(data_loader)\n",
    "    epoch_lr /= len(data_loader)\n",
    "    epoch_losses.append(epoch_loss)\n",
    "    epoch_lrs.append(epoch_lr)\n",
    "    \n",
    "    if epoch % print_every_n_epochs == 0:    \n",
    "        message = \"Epoch:{}    Loss:{}    LR:{}\".format(epoch, epoch_loss, epoch_lr)\n",
    "        print(message)"
   ]
  },
  {
   "cell_type": "code",
   "execution_count": 22,
   "metadata": {},
   "outputs": [
    {
     "data": {
      "image/png": "[encoded data removed]",
      "text/plain": [
       "<Figure size 1080x576 with 2 Axes>"
      ]
     },
     "metadata": {
      "needs_background": "light"
     },
     "output_type": "display_data"
    }
   ],
   "source": [
    "fig, (ax1, ax2) = plt.subplots(2, 1, sharex=True, figsize=(15, 8))\n",
    "ax1.plot(epoch_losses, marker=\"o\", markersize=5)\n",
    "ax1.set_title(\"Loss\")\n",
    "ax2.plot(epoch_lrs, marker=\"o\", markersize=5)\n",
    "ax2.set_title(\"LR\")\n",
    "plt.xlabel(\"Epochs\")\n",
    "plt.show()"
   ]
  },
  {
   "cell_type": "code",
   "execution_count": 23,
   "metadata": {},
   "outputs": [
    {
     "data": {
      "image/png": "[encoded data removed]",
      "text/plain": [
       "<Figure size 1080x576 with 2 Axes>"
      ]
     },
     "metadata": {
      "needs_background": "light"
     },
     "output_type": "display_data"
    }
   ],
   "source": [
    "fig, (ax1, ax2) = plt.subplots(2, 1, sharex=True, figsize=(15, 8))\n",
    "ax1.plot(iteration_losses[::])\n",
    "ax1.set_title(\"Loss\")\n",
    "ax2.plot(iteration_lrs[::])\n",
    "ax2.set_title(\"LR\")\n",
    "plt.xlabel(\"Iterations\")\n",
    "plt.show()"
   ]
  },
  {
   "cell_type": "code",
   "execution_count": 24,
   "metadata": {},
   "outputs": [
    {
     "name": "stdout",
     "output_type": "stream",
     "text": [
      "Models/OHLCV/BNB_BTC_1d_30_4.pth\n"
     ]
    }
   ],
   "source": [
    "parameters = [base_coin, quote_coin, resolution, lookback_period, forecast_period]\n",
    "model_fn = \"{}_{}_{}_{}_{}.pth\".format(*parameters)\n",
    "model_fp = os.path.join(\"Models\", \"OHLCV\", model_fn)\n",
    "print(model_fp)"
   ]
  },
  {
   "cell_type": "code",
   "execution_count": 25,
   "metadata": {},
   "outputs": [],
   "source": [
    "model = {}\n",
    "model['encoder'] = encoder.state_dict()\n",
    "model['decoder'] = decoder.state_dict()\n",
    "torch.save(model, model_fp)"
   ]
  },
  {
   "cell_type": "markdown",
   "metadata": {},
   "source": [
    "## 4. Define prediction"
   ]
  },
  {
   "cell_type": "code",
   "execution_count": 26,
   "metadata": {},
   "outputs": [],
   "source": [
    "base_coin = \"BNB\"\n",
    "quote_coin = \"BTC\"\n",
    "dt_format = \"%Y-%m-%dT%H:%M:%S\"\n",
    "min_time = \"2020-04-01T00:00:00\"\n",
    "max_time = \"2020-05-30T00:00:00\"\n",
    "resolution = \"1d\"\n",
    "lookback_period = 30\n",
    "forecast_period_train = 4\n",
    "forecast_period_predict = 1###\n",
    "mode = 'predict'\n",
    "\n",
    "min_time = pd.to_datetime(min_time, format=dt_format)\n",
    "max_time = pd.to_datetime(max_time, format=dt_format)"
   ]
  },
  {
   "cell_type": "code",
   "execution_count": 27,
   "metadata": {},
   "outputs": [
    {
     "data": {
      "application/vnd.jupyter.widget-view+json": {
       "model_id": "fe8f08a30bbd44c7b3a1227aabd82c40",
       "version_major": 2,
       "version_minor": 0
      },
      "text/plain": [
       "HBox(children=(FloatProgress(value=0.0, description='Changing Resolution', max=42.0, style=ProgressStyle(descr…"
      ]
     },
     "metadata": {},
     "output_type": "display_data"
    },
    {
     "name": "stdout",
     "output_type": "stream",
     "text": [
      "\n",
      "Finding valid indices...\n",
      "Done\n",
      "13\n"
     ]
    }
   ],
   "source": [
    "dataset = MarketDataset(base_coin=base_coin, \n",
    "                        quote_coin=quote_coin, \n",
    "                        min_time=min_time, \n",
    "                        max_time=max_time, \n",
    "                        resolution=resolution,\n",
    "                        lookback_period=lookback_period, \n",
    "                        forecast_period=forecast_period_predict,\n",
    "                        mode=mode)\n",
    "print(len(dataset))"
   ]
  },
  {
   "cell_type": "code",
   "execution_count": 28,
   "metadata": {},
   "outputs": [
    {
     "name": "stdout",
     "output_type": "stream",
     "text": [
      "torch.Size([30, 5]) torch.Size([1, 5]) 2020-05-12 00:00:00\n"
     ]
    }
   ],
   "source": [
    "encoder_x, decoder_x, encoder_end_time, _ = dataset[12]\n",
    "print(encoder_x.shape, decoder_x.shape, encoder_end_time)"
   ]
  },
  {
   "cell_type": "code",
   "execution_count": 29,
   "metadata": {},
   "outputs": [],
   "source": [
    "parameters = [base_coin, quote_coin, resolution, lookback_period, forecast_period_train]\n",
    "model_fn = \"{}_{}_{}_{}_{}.pth\".format(*parameters)\n",
    "model_fp = os.path.join(\"Models\", \"OHLCV\", model_fn)\n",
    "model = torch.load(model_fp)"
   ]
  },
  {
   "cell_type": "code",
   "execution_count": 30,
   "metadata": {},
   "outputs": [
    {
     "data": {
      "text/plain": [
       "Decoder(\n",
       "  (lstm): LSTM(5, 32, batch_first=True)\n",
       "  (fc): Linear(in_features=32, out_features=5, bias=True)\n",
       ")"
      ]
     },
     "execution_count": 30,
     "metadata": {},
     "output_type": "execute_result"
    }
   ],
   "source": [
    "encoder = Encoder(input_size=input_size,\n",
    "                  hidden_size=hidden_size, \n",
    "                  num_layers=num_layers).double()\n",
    "encoder.load_state_dict(model['encoder'])\n",
    "encoder.eval()\n",
    "decoder = Decoder(input_size=input_size,\n",
    "                  hidden_size=hidden_size, \n",
    "                  num_layers=num_layers, \n",
    "                  output_size=output_size).double()\n",
    "decoder.load_state_dict(model['decoder'])\n",
    "decoder.eval()"
   ]
  },
  {
   "cell_type": "code",
   "execution_count": 42,
   "metadata": {},
   "outputs": [
    {
     "name": "stdout",
     "output_type": "stream",
     "text": [
      "2020-05-12 00:00:00 1d\n",
      "       Open     High       Low     Close         Volume\n",
      "0  0.001766  0.00167  0.001726  0.001768  632682.781867\n",
      "1  0.001748  0.00167  0.001715  0.001750  723062.988761\n",
      "2  0.001731  0.00167  0.001702  0.001734  793327.105226\n",
      "3  0.001717  0.00167  0.001690  0.001720  849473.010710\n"
     ]
    }
   ],
   "source": [
    "predictions = pd.DataFrame(columns=['Open', 'High', 'Low', 'Close', 'Volume'])\n",
    "index = 12#len(dataset)-1\n",
    "encoder_x, decoder_x, encoder_end_time, normalizing_parameters = dataset[index]\n",
    "min_price, max_price, min_volume, max_volume = normalizing_parameters\n",
    "print(encoder_end_time, resolution)\n",
    "encoder_X = encoder_x.unsqueeze(0)\n",
    "decoder_X = decoder_x.unsqueeze(0)\n",
    "out, hidden = encoder(encoder_X)\n",
    "for j in range(forecast_period_train):\n",
    "    decoder_Y_pred, hidden = decoder(decoder_X, hidden)\n",
    "    decoder_X = decoder_Y_pred\n",
    "    prediction = {}\n",
    "    prediction['Open'] = decoder_Y_pred[0, 0, 0].item() * (max_price - min_price) + min_price\n",
    "    prediction['High'] = decoder_Y_pred[0, 0, 1].item() * (max_price - min_price) + min_price\n",
    "    prediction['Low'] = decoder_Y_pred[0, 0, 2].item() * (max_price - min_price) + min_price\n",
    "    prediction['Close'] = decoder_Y_pred[0, 0, 3].item() * (max_price - min_price) + min_price\n",
    "    prediction['Volume'] = decoder_Y_pred[0, 0, 4].item() * (max_volume - min_volume) + min_volume\n",
    "    predictions = predictions.append(prediction, ignore_index=True)\n",
    "print(predictions)"
   ]
  },
  {
   "cell_type": "code",
   "execution_count": null,
   "metadata": {},
   "outputs": [],
   "source": []
  }
 ],
 "metadata": {
  "kernelspec": {
   "display_name": "Python 3",
   "language": "python",
   "name": "python3"
  },
  "language_info": {
   "codemirror_mode": {
    "name": "ipython",
    "version": 3
   },
   "file_extension": ".py",
   "mimetype": "text/x-python",
   "name": "python",
   "nbconvert_exporter": "python",
   "pygments_lexer": "ipython3",
   "version": "3.8.2"
  }
 },
 "nbformat": 4,
 "nbformat_minor": 4
}
